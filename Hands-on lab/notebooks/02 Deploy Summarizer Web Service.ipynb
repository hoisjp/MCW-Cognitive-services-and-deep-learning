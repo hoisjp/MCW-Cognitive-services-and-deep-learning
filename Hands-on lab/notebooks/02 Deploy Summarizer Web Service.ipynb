{
 "cells": [
  {
   "cell_type": "markdown",
   "metadata": {},
   "source": [
    "# Azure Machine Learning のセットアップ\n",
    "まず、Azureサブスクリプションに関する次の情報を入力する必要があります。\n",
    "\n",
    "**独自のAzureサブスクリプションを使用している場合は、使用するsubscription_id、resource_group、workspace_name、workspace_regionの名前を指定してください。** ワークスペースのタイプは [Machine Learning Workspace](https://docs.microsoft.com/en-us/azure/machine-learning/service/setup-create-workspace) である必要があることに注意してください。\n",
    "\n",
    "**環境が提供されている場合は、以下の値のXXXXXを一意の識別子に置き換えてください。**\n",
    "\n",
    "次のセルで、コメントの指示に従って、 `subscription_id`、` resource_group`、 `workspace_name`、および` workspace_region`の値を必ず設定してください (*これらの値は、Azureポータルから取得できます*).\n",
    "\n",
    "これらの値を取得するには、次の操作を行います:\n",
    "\n",
    "1. Azureポータルに移動し、提供された資格情報でログインします。\n",
    "\n",
    "2. 左側のメニューの[お気に入り]で、[リソースグループ]を選択します。\n",
    "\n",
    "3. リストで、「XXXXX」のような名前のリソースグループを選択します。\n",
    "\n",
    "4. 「概要」タブから、必要な値を取得します。\n",
    "\n",
    "上のコマンドバーの `>|Run` ボタンを選択して、次のセルを実行します。"
   ]
  },
  {
   "cell_type": "code",
   "execution_count": null,
   "metadata": {},
   "outputs": [],
   "source": [
    "#既存のAzureサブスクリプションのサブスクリプションIDに置き換える\n",
    "subscription_id = \"\" #\"<your-azure-subscription-id>\"\n",
    "\n",
    "#Azure ML関連のサービスを含むリソースグループの名前を指定します\n",
    "resource_group = \"\" #\"<your-subscription-group-name>\"\n",
    "\n",
    "#作成されるAzure Machine Learningワークスペースの一意の名前とリージョンを指定します\n",
    "workspace_name = \"csdl-ws\"\n",
    "workspace_region = \"eastus\" # japaneast, eastus2, eastus, westcentralus, southeastasia, australiaeast, westeurope"
   ]
  },
  {
   "cell_type": "markdown",
   "metadata": {},
   "source": [
    "## Azure Machine Learningワークスペースを作成して接続する\n",
    "\n",
    "Azure Machine Learning Python SDKは、Azure Machine Learningサービスの実験、モデル管理、モデルデプロイメント機能を活用するために必要です。 次のセルを実行して、新しいAzure Machine Learning **Workspace** を作成し、構成をディスクに保存します。 `config.json` という名前の設定ファイルは、` .azureml` という名前のフォルダーに保存されます。\n",
    "\n",
    "**重要**: セルの下に出力されるテキストでログインするように求められます。 表示されたURLに移動し、提供されているコードを入力してください。コードを入力したら、このノートブックに戻り、 `Workspace configuration succeeded` と出力されるのを待ちます。"
   ]
  },
  {
   "cell_type": "code",
   "execution_count": null,
   "metadata": {},
   "outputs": [],
   "source": [
    "import azureml.core\n",
    "print('azureml.core.VERSION: ', azureml.core.VERSION)\n",
    "\n",
    "#　Workspaceクラスをインポートしてazureml SDKのバージョンを確認する\n",
    "from azureml.core import Workspace\n",
    "\n",
    "ws = Workspace.create(\n",
    "    name = workspace_name,\n",
    "    subscription_id = subscription_id,\n",
    "    resource_group = resource_group, \n",
    "    location = workspace_region, \n",
    "    exist_ok = True)\n",
    "\n",
    "ws.write_config()\n",
    "print('Workspace configuration succeeded')"
   ]
  },
  {
   "cell_type": "markdown",
   "metadata": {},
   "source": [
    "次のセルを実行して、生成された構成ファイルの内容を確認します。"
   ]
  },
  {
   "cell_type": "code",
   "execution_count": null,
   "metadata": {},
   "outputs": [],
   "source": [
    "!cat .azureml/config.json"
   ]
  },
  {
   "cell_type": "markdown",
   "metadata": {},
   "source": [
    "# Azure Container Instance（ACI）にモデルをデプロイする\n",
    "\n",
    "このセクションでは、 `01 Summarize` に示すように、Gensimを使用してテキストを要約するWebサービスをデプロイします。 WebサービスはAzure Container Serviceでホストされます。"
   ]
  },
  {
   "cell_type": "markdown",
   "metadata": {},
   "source": [
    "## スコアリングWebサービスを作成する\n",
    "\n",
    "Azure Machine Learningサービスでスコアリング用のモデルをデプロイする場合、モデルをロードしてスコアリングに使用する単純なWebサービスのコードを定義する必要があります。 慣例により、このサービスには、モデルをロードする2つのメソッドinitと、ロードされたモデルを使用してデータをスコアリングする実行があります。\n",
    "\n",
    "このスコアリングサービスコードは、特別に準備されたDockerコンテナー内に後でデプロイされます。"
   ]
  },
  {
   "cell_type": "code",
   "execution_count": null,
   "metadata": {},
   "outputs": [],
   "source": [
    "%%writefile summarizer_service.py\n",
    "\n",
    "import re\n",
    "import nltk\n",
    "import unicodedata\n",
    "from gensim.summarization import summarize, keywords\n",
    "\n",
    "def clean_and_parse_document(document):\n",
    "    if isinstance(document, str):\n",
    "        document = document\n",
    "    elif isinstance(document, unicode):\n",
    "        return unicodedata.normalize('NFKD', document).encode('ascii', 'ignore')\n",
    "    else:\n",
    "        raise ValueError(\"Document is not string or unicode.\")\n",
    "    document = document.strip()\n",
    "    sentences = nltk.sent_tokenize(document)\n",
    "    sentences = [sentence.strip() for sentence in sentences]\n",
    "    return sentences\n",
    "\n",
    "def summarize_text(text, summary_ratio=None, word_count=30):\n",
    "    sentences = clean_and_parse_document(text)\n",
    "    cleaned_text = ' '.join(sentences)\n",
    "    summary = summarize(cleaned_text, split=True, ratio=summary_ratio, word_count=word_count)\n",
    "    return summary \n",
    "\n",
    "def init():  \n",
    "    nltk.download('all')\n",
    "    return\n",
    "\n",
    "def run(input_str):\n",
    "    try:\n",
    "        return summarize_text(input_str)\n",
    "    except Exception as e:\n",
    "        return (str(e))"
   ]
  },
  {
   "cell_type": "markdown",
   "metadata": {},
   "source": [
    "## Conda依存関係環境ファイルを作成する\n",
    "\n",
    "Webサービスには、Conda環境ファイルを使用して依存関係をインストールできます。 このファイルにリストされている項目は、作成されたDockerコンテナー内にインストールされているcondaまたはpipであり、スコアリングWebサービスロジックで使用できます。"
   ]
  },
  {
   "cell_type": "code",
   "execution_count": null,
   "metadata": {},
   "outputs": [],
   "source": [
    "from azureml.core.conda_dependencies import CondaDependencies \n",
    "\n",
    "myacienv = CondaDependencies.create(pip_packages=['gensim','nltk'])\n",
    "\n",
    "with open(\"mydeployenv.yml\",\"w\") as f:\n",
    "    f.write(myacienv.serialize_to_string())"
   ]
  },
  {
   "cell_type": "markdown",
   "metadata": {},
   "source": [
    "## デプロイ\n",
    "\n",
    "次のセルでは、Azure Machine Learning SDKを使用して、モデルとスコアリングスクリプトをコンテナーにパッケージ化し、そのコンテナーをAzureコンテナーインスタンスにデプロイします。\n",
    "\n",
    "次のセルを実行します。"
   ]
  },
  {
   "cell_type": "code",
   "execution_count": null,
   "metadata": {},
   "outputs": [],
   "source": [
    "from azureml.core.webservice import AciWebservice, Webservice\n",
    "\n",
    "aci_config = AciWebservice.deploy_configuration(\n",
    "    cpu_cores = 1, \n",
    "    memory_gb = 1, \n",
    "    tags = {'name':'Summarization'}, \n",
    "    description = 'Summarizes text.')"
   ]
  },
  {
   "cell_type": "markdown",
   "metadata": {},
   "source": [
    "次に、スコアリングサービススクリプト、ランタイムに名前を付け、condaファイルを提供するコンテナーイメージ構成を構築します。"
   ]
  },
  {
   "cell_type": "markdown",
   "metadata": {},
   "source": [
    "次の2つのセルを実行して、デプロイイメージを作成します。\n",
    "\n",
    "*注意: インストールするには、build-essentialがDockerイメージで利用可能である必要があり、デフォルトではありません。 したがって、build-essentialがインストールされたカスタムdockerfileを作成します。*"
   ]
  },
  {
   "cell_type": "code",
   "execution_count": null,
   "metadata": {},
   "outputs": [],
   "source": [
    "%%writefile dockerfile\n",
    "RUN apt-get update && apt-get install -y build-essential"
   ]
  },
  {
   "cell_type": "code",
   "execution_count": null,
   "metadata": {},
   "outputs": [],
   "source": [
    "service_name = \"summarizer\"\n",
    "runtime = \"python\"\n",
    "driver_file = \"summarizer_service.py\"\n",
    "conda_file = \"mydeployenv.yml\"\n",
    "\n",
    "# Create the container image configuration\n",
    "print(\"Creating container image configuration...\")\n",
    "from azureml.core.image import ContainerImage\n",
    "\n",
    "image_config = ContainerImage.image_configuration(execution_script = driver_file,\n",
    "                                                  runtime = runtime,\n",
    "                                                  conda_file = conda_file,\n",
    "                                                  docker_file = 'dockerfile')\n",
    "\n",
    "# create the image\n",
    "image_name = 'summarizer-image'\n",
    "\n",
    "from azureml.core import Image\n",
    "image = Image.create(name=image_name, models=[], image_config=image_config, workspace=ws)\n",
    "\n",
    "# wait for image creation to finish\n",
    "image.wait_for_creation(show_output=True)"
   ]
  },
  {
   "cell_type": "markdown",
   "metadata": {},
   "source": [
    "これで、Azure Container Instanceへのデプロイを開始する準備ができました。\n",
    "\n",
    "次のセルを実行します。 完了するまでに5〜15分かかる場合があります。\n",
    "\n",
    "Webサービスの準備ができると、次のような出力が表示されます。 `SucceededACI service creation operation finished, operation \"Succeeded\"`"
   ]
  },
  {
   "cell_type": "code",
   "execution_count": null,
   "metadata": {},
   "outputs": [],
   "source": [
    "webservice = Webservice.deploy_from_image(deployment_config=aci_config, \n",
    "                                           image=image, \n",
    "                                           name=service_name, \n",
    "                                           workspace=ws)\n",
    "\n",
    "webservice.wait_for_deployment(show_output=True)"
   ]
  },
  {
   "cell_type": "markdown",
   "metadata": {},
   "source": [
    "## デプロイされたサービスをテストする\n",
    "\n",
    "これで、デプロイされたWebサービスを使用してスコアリングをテストする準備ができました。 次のセルはWebサービスを呼び出します。\n",
    "\n",
    "次のセルを実行して、デプロイされたWebサービスに対して単一の入力行を使用してスコアリングをテストします。"
   ]
  },
  {
   "cell_type": "code",
   "execution_count": null,
   "metadata": {},
   "outputs": [],
   "source": [
    "example_document = \"\"\"\n",
    "I was driving down El Camino and stopped at a red light.\n",
    "It was about 3pm in the afternoon.  \n",
    "The sun was bright and shining just behind the stoplight.\n",
    "This made it hard to see the lights.\n",
    "There was a car on my left in the left turn lane.\n",
    "A few moments later another car, a black sedan pulled up behind me. \n",
    "When the left turn light changed green, the black sedan hit me thinking \n",
    "that the light had changed for us, but I had not moved because the light \n",
    "was still red.\n",
    "After hitting my car, the black sedan backed up and then sped past me.\n",
    "I did manage to catch its license plate. \n",
    "The license plate of the black sedan was ABC123. \n",
    "\"\"\""
   ]
  },
  {
   "cell_type": "code",
   "execution_count": null,
   "metadata": {},
   "outputs": [],
   "source": [
    "result = webservice.run(input_data = example_document)\n",
    "print(result)"
   ]
  },
  {
   "cell_type": "markdown",
   "metadata": {},
   "source": [
    "## スコアリングURIをキャプチャする\n",
    "\n",
    "RESTクライアントからサービスを呼び出すには、スコアリングURIを取得する必要があります。 次のセルを実行してスコアリングURIを取得し、この値をメモします。最後のノートブックで必要になります。"
   ]
  },
  {
   "cell_type": "code",
   "execution_count": null,
   "metadata": {},
   "outputs": [],
   "source": [
    "webservice.scoring_uri"
   ]
  },
  {
   "cell_type": "markdown",
   "metadata": {},
   "source": [
    "このサービスのデプロイに使用されるデフォルト設定では、認証を必要としないサービスが作成されるため、このサービスを呼び出すために必要な値はスコアリングURIのみです。"
   ]
  }
 ],
 "metadata": {
  "kernelspec": {
   "name": "python36",
   "display_name": "Python 3.6",
   "language": "python"
  },
  "language_info": {
   "mimetype": "text/x-python",
   "nbconvert_exporter": "python",
   "name": "python",
   "pygments_lexer": "ipython3",
   "version": "3.6.6",
   "file_extension": ".py",
   "codemirror_mode": {
    "version": 3,
    "name": "ipython"
   }
  }
 },
 "nbformat": 4,
 "nbformat_minor": 2
}