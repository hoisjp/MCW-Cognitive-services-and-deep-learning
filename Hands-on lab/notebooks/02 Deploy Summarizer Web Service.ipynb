{
 "cells": [
  {
   "cell_type": "markdown",
   "metadata": {},
   "source": [
    "# Azure Machine Learning のセットアップ\n",
    "まず、Azureサブスクリプションに関する次の情報を入力する必要があります。\n",
    "\n",
    "**独自のAzureサブスクリプションを使用している場合は、使用するsubscription_id、resource_group、workspace_name、workspace_regionの名前を指定してください。** ワークスペースのタイプは [Machine Learning Workspace](https://docs.microsoft.com/en-us/azure/machine-learning/service/setup-create-workspace) である必要があることに注意してください。\n",
    "\n",
    "**環境が提供されている場合は、以下の値のXXXXXを一意の識別子に置き換えてください。**\n",
    "\n",
    "次のセルで、コメントの指示に従って、 `subscription_id`、` resource_group`、 `workspace_name`、および` workspace_region`の値を必ず設定してください (*これらの値は、Azureポータルから取得できます*).\n",
    "\n",
    "これらの値を取得するには、次の操作を行います:\n",
    "\n",
    "1. Azureポータルに移動し、提供された資格情報でログインします。\n",
    "\n",
    "2. 左側のメニューの[お気に入り]で、[リソースグループ]を選択します。\n",
    "\n",
    "3. リストで、「XXXXX」のような名前のリソースグループを選択します。\n",
    "\n",
    "4. 「概要」タブから、必要な値を取得します。\n",
    "\n",
    "上のコマンドバーの `>|Run` ボタンを選択して、次のセルを実行します。"
   ]
  },
  {
   "cell_type": "code",
   "execution_count": null,
   "metadata": {},
   "outputs": [],
   "source": [
    "#既存のAzureサブスクリプションのサブスクリプションIDに置き換える\n",
    "subscription_id = \"\" #\"<your-azure-subscription-id>\"\n",
    "\n",
    "#Azure ML関連のサービスを含むリソースグループの名前を指定します\n",
    "resource_group = \"mcwailab\" #\"<your-subscription-group-name>\"\n",
    "\n",
    "#作成されるAzure Machine Learningワークスペースの一意の名前とリージョンを指定します\n",
    "workspace_name = \"mcw-csdl\"\n",
    "workspace_region = \"eastus\" # japaneast, eastus2, eastus, westcentralus, southeastasia, australiaeast, westeurope"
   ]
  },
  {
   "cell_type": "markdown",
   "metadata": {},
   "source": [
    "## Azure Machine Learningワークスペースを作成して接続する\n",
    "\n",
    "Azure Machine Learning Python SDKは、Azure Machine Learningサービスの実験、モデル管理、モデルデプロイメント機能を活用するために必要です。 次のセルを実行して、新しいAzure Machine Learning **Workspace** を作成し、構成をディスクに保存します。 `config.json` という名前の設定ファイルは、` .azureml` という名前のフォルダーに保存されます。\n",
    "\n",
    "**重要**: セルの下に出力されるテキストでログインするように求められます。 表示されたURLに移動し、提供されているコードを入力してください。コードを入力したら、このノートブックに戻り、 `Workspace configuration succeeded` と出力されるのを待ちます。"
   ]
  },
  {
   "cell_type": "markdown",
   "metadata": {},
   "source": [
    "**任意**: 複数のテナントを持っている場合、以下のセルをアクティブにしてください。クラスをインポートし、ターゲットとするテナントを明示的に定義する必要があります。 \n",
    "InteractiveLoginAuthentication のコンストラクターを呼び出すと、指定したテナントIDに基づいてログインするよう求められます。\n"
   ]
  },
  {
   "cell_type": "code",
   "execution_count": null,
   "metadata": {},
   "outputs": [],
   "source": [
    "#任意: 複数のテナントを持っている場合\n",
    "#from azureml.core.authentication import InteractiveLoginAuthentication\n",
    "#auth = InteractiveLoginAuthentication(tenant_id = '<your-tenant-id>')"
   ]
  },
  {
   "cell_type": "markdown",
   "metadata": {},
   "source": [
    "上記セルをアクティブにした場合、下記の `Workspace.create` メソッドで `auth = auth` パラメータを有効化します。"
   ]
  },
  {
   "cell_type": "code",
   "execution_count": null,
   "metadata": {},
   "outputs": [],
   "source": [
    "import azureml.core\n",
    "print('azureml.core.VERSION: ', azureml.core.VERSION)\n",
    "\n",
    "#　Workspaceクラスをインポートしてazureml SDKのバージョンを確認する\n",
    "from azureml.core import Workspace\n",
    "\n",
    "ws = Workspace.create(\n",
    "    name = workspace_name,\n",
    "    subscription_id = subscription_id,\n",
    "    resource_group = resource_group, \n",
    "    location = workspace_region, \n",
    "    exist_ok = True\n",
    "#   ,auth = auth\n",
    "    )\n",
    "\n",
    "ws.write_config()\n",
    "print('Workspace configuration succeeded')"
   ]
  },
  {
   "cell_type": "markdown",
   "metadata": {},
   "source": [
    "次のセルを実行して、生成された構成ファイルの内容を確認します。"
   ]
  },
  {
   "cell_type": "code",
   "execution_count": null,
   "metadata": {},
   "outputs": [],
   "source": [
    "!cat .azureml/config.json"
   ]
  },
  {
   "cell_type": "markdown",
   "metadata": {},
   "source": [
    "# Azure Container Instance（ACI）にモデルをデプロイする\n",
    "\n",
    "このセクションでは、 `01 Summarize` に示すように、Gensimを使用してテキストを要約するWebサービスをデプロイします。 WebサービスはAzure Container Serviceでホストされます。"
   ]
  },
  {
   "cell_type": "markdown",
   "metadata": {},
   "source": [
    "## スコアリングWebサービスを作成する\n",
    "\n",
    "Azure Machine Learningサービスでスコアリング用のモデルをデプロイする場合、モデルをロードしてスコアリングに使用する単純なWebサービスのコードを定義する必要があります。慣例により、このサービスには、モデルをロードするinitと、ロードされたモデルを使用してデータをスコアリングするrunの2つのメソッドがあります。\n",
    "\n",
    "このスコアリングサービスコードは、後で特別に準備されたDockerコンテナー内にデプロイされます。"
   ]
  },
  {
   "cell_type": "code",
   "execution_count": null,
   "metadata": {},
   "outputs": [],
   "source": [
    "%%writefile summarizer_service.py\n",
    "\n",
    "import re\n",
    "import nltk\n",
    "import unicodedata\n",
    "from gensim.summarization import summarize, keywords\n",
    "\n",
    "def clean_and_parse_document(document):\n",
    "    if isinstance(document, str):\n",
    "        document = document\n",
    "    elif isinstance(document, unicode):\n",
    "        return unicodedata.normalize('NFKD', document).encode('ascii', 'ignore')\n",
    "    else:\n",
    "        raise ValueError(\"Document is not string or unicode.\")\n",
    "    document = document.strip()\n",
    "    sentences = nltk.sent_tokenize(document)\n",
    "    sentences = [sentence.strip() for sentence in sentences]\n",
    "    return sentences\n",
    "\n",
    "def summarize_text(text, summary_ratio=None, word_count=30):\n",
    "    sentences = clean_and_parse_document(text)\n",
    "    cleaned_text = ' '.join(sentences)\n",
    "    summary = summarize(cleaned_text, split=True, ratio=summary_ratio, word_count=word_count)\n",
    "    return summary \n",
    "\n",
    "def init():  \n",
    "    nltk.download('all')\n",
    "    return\n",
    "\n",
    "def run(input_str):\n",
    "    try:\n",
    "        return summarize_text(input_str)\n",
    "    except Exception as e:\n",
    "        return (str(e))"
   ]
  },
  {
   "cell_type": "markdown",
   "metadata": {},
   "source": [
    "## 環境\n",
    "\n",
    "Azure ML環境は、機械学習トレーニングが行われる環境をカプセル化したものです。これらは、Pythonパッケージ、環境変数、Docker設定、およびその他の属性を宣言型で定義します。環境はバージョン管理されています。環境を更新し、古いバージョンを取得して、作業を再検討および確認できます。\n",
    "\n",
    "環境により、次のことが可能になります:\n",
    "* Pythonパッケージやそのバージョンなど、トレーニングプロセスの依存関係をカプセル化します\n",
    "* VMまたはMLComputeクラスターでのリモート実行でローカルコンピューター上のPython環境を再現します\n",
    "* 実稼働環境で実験環境を再現します\n",
    "* 既存のモデルがトレーニングされた環境を再検討して監査します\n",
    "\n",
    "環境、計算ターゲット、トレーニングスクリプトが一緒になって、実行構成を形成します。"
   ]
  },
  {
   "cell_type": "markdown",
   "metadata": {},
   "source": [
    "### キュレーションされた環境を利用する\n",
    "\n",
    "キュレーションされた環境はAzure Machine Learningによって提供され、デフォルトでワークスペースで利用できます。これらの環境には、さまざまな機械学習フレームワークを始めるのに役立つ Python パッケージと設定のコレクションが含まれています。\n",
    "\n",
    "  * AzureML-Minimal__環境には、ランのトラッキングとアセットのアップロードを可能にする最小限のパッケージが含まれています。ご自身の環境の出発点として使用することができます。\n",
    "  * AzureML-Tutorial__環境には、Scikit-Learn、Pandas、Matplotlibなどの一般的なデータサイエンスパッケージと、azureml-sdkパッケージの大規模なセットが含まれています。\n",
    "\n",
    "キュレーションされた環境は、キャッシュされたDockerイメージによってバックアップされ、ラン準備コストを削減します。\n",
    "\n",
    "詳細は https://github.com/Azure/MachineLearningNotebooks/blob/master/how-to-use-azureml/training/using-environments/using-environments.ipynb を参照してください。"
   ]
  },
  {
   "cell_type": "markdown",
   "metadata": {},
   "source": [
    "### 自分の環境を作る\n",
    "\n",
    "環境をキュレーションする代わりに、```Environment```オブジェクトをインスタンス化して環境を作成し、その属性(Pythonパッケージのセット、環境変数など)を設定します。このトレーニングでは、このアプローチを採用します。\n",
    "\n",
    "#### Pythonのパッケージを追加\n",
    "\n",
    "推奨される方法は、Conda パッケージを指定することです。また、pip パッケージを追加して、パッケージのバージョンを指定することもできます。"
   ]
  },
  {
   "cell_type": "code",
   "execution_count": null,
   "metadata": {},
   "outputs": [],
   "source": [
    "from azureml.core import Environment\n",
    "from azureml.core.environment import CondaDependencies\n",
    "\n",
    "myenv = Environment(name=\"myenv\")\n",
    "conda_dep = CondaDependencies()\n",
    "conda_dep.add_pip_package(\"gensim\")\n",
    "conda_dep.add_pip_package(\"nltk\")\n",
    "myenv.python.conda_dependencies=conda_dep"
   ]
  },
  {
   "cell_type": "markdown",
   "metadata": {},
   "source": [
    "### 環境の登録\n",
    "\n",
    "環境を登録することで、環境を管理することができます。これにより、環境のバージョンを追跡し、将来の実験で再利用することができます。例えば、要件を満たす環境を構築したら、その環境を登録して他の実験で使用することで、ワークフローの標準化を図ることができます。\n",
    "\n",
    "同じ名前で環境を登録すると、バージョン番号が1つ増えます。なお、Azure MLではバージョン間の差分を記録しているので、同じバージョンを再登録してもバージョン番号は増えません。"
   ]
  },
  {
   "cell_type": "code",
   "execution_count": null,
   "metadata": {},
   "outputs": [],
   "source": [
    "myenv.register(workspace=ws)"
   ]
  },
  {
   "cell_type": "markdown",
   "metadata": {},
   "source": [
    "## デプロイ\n",
    "\n",
    "モデルの実行方法をより制御したい場合、別のフレームワークを使用している場合、または特別なランタイム要件がある場合は、独自の環境とスコアリング方法を指定することができます。カスタム環境は、デプロイしたいモデルに使用することができます。\n",
    "\n",
    "前のコードでは、[Environment](https://docs.microsoft.com/python/api/azureml-core/azureml.core.environment%28class%29?view=azure-ml-py)オブジェクトを作成し、モデルに必要な[CondaDependencies](https://docs.microsoft.com/python/api/azureml-core/azureml.core.conda_dependencies.condadependencies?view=azure-ml-py)を提供することで、モデルの実行環境を指定しました。\n",
    "\n",
    "次のセルでは、Azure Machine Learning SDK を使用して、モデルとスコアリングスクリプトをコンテナにパッケージ化し、そのコンテナを Azure コンテナインスタンスにデプロイします。\n",
    "\n",
    "以下のセルを実行します。"
   ]
  },
  {
   "cell_type": "code",
   "execution_count": null,
   "metadata": {},
   "outputs": [],
   "source": [
    "from azureml.core.model import InferenceConfig\n",
    "from azureml.core.webservice import AciWebservice\n",
    "\n",
    "inference_config = InferenceConfig(entry_script='summarizer_service.py', environment=myenv)\n",
    "aci_config = AciWebservice.deploy_configuration(\n",
    "    cpu_cores = 1, \n",
    "    memory_gb = 1, \n",
    "    tags = {'name':'Summarization'}, \n",
    "    description = 'Summarizes text.')"
   ]
  },
  {
   "cell_type": "markdown",
   "metadata": {},
   "source": [
    "これで、Azureコンテナインスタンスへのデプロイを開始する準備が整いました。 この場合、モデルはPythonスクリプトの中にあるので、_model_パラメータには空白のリストがあります。\n",
    "\n",
    "次のセルを実行してください: _Running_タグで進行状況のドットが追加されている間、完了まで5～15分ほどかかるかもしれません。\n",
    "\n",
    "Webサービスの準備ができたら、以下のような出力が表示されます。\n",
    "\n",
    "`\n",
    "Succeeded\n",
    "ACI service creation operation finished, operation \"Succeeded\"`"
   ]
  },
  {
   "cell_type": "code",
   "execution_count": null,
   "metadata": {},
   "outputs": [],
   "source": [
    "from azureml.core import Model\n",
    "from azureml.core import Webservice\n",
    "from azureml.exceptions import WebserviceException\n",
    "\n",
    "service_name = \"summarizer\"\n",
    "\n",
    "# Remove any existing service under the same name.\n",
    "try:\n",
    "    Webservice(ws, service_name).delete()\n",
    "except WebserviceException:\n",
    "    pass\n",
    "\n",
    "webservice = Model.deploy(workspace=ws,\n",
    "                       name=service_name,\n",
    "                       models=[],\n",
    "                       inference_config=inference_config,\n",
    "                       deployment_config=aci_config)\n",
    "webservice.wait_for_deployment(show_output=True)"
   ]
  },
  {
   "cell_type": "markdown",
   "metadata": {},
   "source": [
    "## デプロイされたサービスをテストする\n",
    "\n",
    "これで、デプロイされたWebサービスを使用してスコアリングをテストする準備ができました。 次のセルはWebサービスを呼び出します。\n",
    "\n",
    "次のセルを実行して、デプロイされたWebサービスに対して単一の入力行を使用してスコアリングをテストします。"
   ]
  },
  {
   "cell_type": "code",
   "execution_count": null,
   "metadata": {},
   "outputs": [],
   "source": [
    "example_document = \"\"\"\n",
    "I was driving down El Camino and stopped at a red light.\n",
    "It was about 3pm in the afternoon.  \n",
    "The sun was bright and shining just behind the stoplight.\n",
    "This made it hard to see the lights.\n",
    "There was a car on my left in the left turn lane.\n",
    "A few moments later another car, a black sedan pulled up behind me. \n",
    "When the left turn light changed green, the black sedan hit me thinking \n",
    "that the light had changed for us, but I had not moved because the light \n",
    "was still red.\n",
    "After hitting my car, the black sedan backed up and then sped past me.\n",
    "I did manage to catch its license plate. \n",
    "The license plate of the black sedan was ABC123. \n",
    "\"\"\""
   ]
  },
  {
   "cell_type": "code",
   "execution_count": null,
   "metadata": {},
   "outputs": [],
   "source": [
    "result = webservice.run(input_data = example_document)\n",
    "print(result)"
   ]
  },
  {
   "cell_type": "markdown",
   "metadata": {},
   "source": [
    "## スコアリングURIをキャプチャする\n",
    "\n",
    "RESTクライアントからサービスを呼び出すには、スコアリングURIを取得する必要があります。 次のセルを実行してスコアリングURIを取得し、この値をメモします。最後のノートブックで必要になります。"
   ]
  },
  {
   "cell_type": "code",
   "execution_count": null,
   "metadata": {},
   "outputs": [],
   "source": [
    "webservice.scoring_uri"
   ]
  },
  {
   "cell_type": "markdown",
   "metadata": {},
   "source": [
    "このサービスのデプロイに使用されるデフォルト設定では、認証を必要としないサービスが作成されるため、このサービスを呼び出すために必要な値はスコアリングURIのみです。"
   ]
  }
 ],
 "metadata": {
  "kernelspec": {
   "display_name": "Python 3.6 - AzureML",
   "language": "python",
   "name": "python3-azureml"
  },
  "language_info": {
   "codemirror_mode": {
    "name": "ipython",
    "version": 3
   },
   "file_extension": ".py",
   "mimetype": "text/x-python",
   "name": "python",
   "nbconvert_exporter": "python",
   "pygments_lexer": "ipython3",
   "version": "3.6.9"
  }
 },
 "nbformat": 4,
 "nbformat_minor": 2
}
