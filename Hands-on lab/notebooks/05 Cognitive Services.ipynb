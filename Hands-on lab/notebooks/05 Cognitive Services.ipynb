{
 "cells": [
  {
   "cell_type": "markdown",
   "metadata": {},
   "source": [
    "# 事前構築されたカスタムAIサービスの統合\n",
    "\n",
    "このノートブックでは、Computer Vision APIおよびText Analytics APIと統合して、クレーム処理機能を強化します。 最後に、展開したサマライザサービスと分類子サービスへのAPI呼び出しを統合し、クレームテキストとクレームイメージに適用されたすべての処理を示す完成したクレームレポートを作成します。"
   ]
  },
  {
   "cell_type": "markdown",
   "metadata": {},
   "source": [
    "## Task 1 - Computer Vision APIを使用したキャプションとタグ"
   ]
  },
  {
   "cell_type": "markdown",
   "metadata": {},
   "source": [
    "下のセルで、コンピュータービジョンAPIのキーを指定してセルを実行します。"
   ]
  },
  {
   "cell_type": "code",
   "execution_count": null,
   "metadata": {},
   "outputs": [],
   "source": [
    "subscription_key = '' #\"<your_computer_vision_api_key>\"\n",
    "assert subscription_key"
   ]
  },
  {
   "cell_type": "markdown",
   "metadata": {},
   "source": [
    "次のセルを実行して、Computer Vision APIのエンドポイントを作成します。 最後のパスセグメントはanalyzeです。これは、分析機能を使用することを示しています。\n",
    "\n",
    "Computer VisionサービスのインスタンスのAzure Portalからコピーしたエンドポイント値と一致するように、以下の vision_endpoint の値を必ず更新してください。 値がスラッシュ（/）で終わっていることを確認してください"
   ]
  },
  {
   "cell_type": "code",
   "execution_count": null,
   "metadata": {},
   "outputs": [],
   "source": [
    "vision_endpoint = '' #\"<your_computer_vision_api_endpoint>\"\n",
    "vision_base_url = vision_endpoint + \"vision/v1.0/\"\n",
    "vision_analyze_url = vision_base_url + \"analyze\""
   ]
  },
  {
   "cell_type": "markdown",
   "metadata": {},
   "source": [
    "次のセルには、単純なWeb検索を実行した後に見つかったサンプル画像のリストが含まれています。 選択した画像のURLを自由に置き換えてください。"
   ]
  },
  {
   "cell_type": "code",
   "execution_count": null,
   "metadata": {},
   "outputs": [],
   "source": [
    "fender_bender = \"https://www.washingtonpost.com/blogs/innovations/files/2015/02/Stolen_Car_Crash-00aef.jpg\"\n",
    "damaged_house = \"https://c2.staticflickr.com/8/7342/10983313185_0589b74946_z.jpg\"\n",
    "police_car = \"https://localtvwnep.files.wordpress.com/2015/11/fender-bender.jpeg\"\n",
    "car_with_text = \"https://static.buildasign.com/cmsimages/bas-vinyl-lettering-splash-01.png\"\n",
    "car_tow = 'https://i.ytimg.com/vi/wmxJ2FrzTWo/maxresdefault.jpg'"
   ]
  },
  {
   "cell_type": "markdown",
   "metadata": {},
   "source": [
    "上記の画像のリストから1つを選択し、それを image_url に割り当ててさらに処理します。"
   ]
  },
  {
   "cell_type": "code",
   "execution_count": null,
   "metadata": {},
   "outputs": [],
   "source": [
    "image_url = car_tow"
   ]
  },
  {
   "cell_type": "markdown",
   "metadata": {},
   "source": [
    "次のセルを実行して、選択した画像をプレビューします。"
   ]
  },
  {
   "cell_type": "code",
   "execution_count": null,
   "metadata": {},
   "outputs": [],
   "source": [
    "from IPython.display import Image, display\n",
    "display(Image(image_url))"
   ]
  },
  {
   "cell_type": "markdown",
   "metadata": {},
   "source": [
    "次のセルは、Computer Vision APIに対して行うHTTPリクエストを作成します。\n",
    "\n",
    "次のセルを実行して、キャプションとタグを取得します。"
   ]
  },
  {
   "cell_type": "code",
   "execution_count": null,
   "metadata": {},
   "outputs": [],
   "source": [
    "import requests\n",
    "headers  = {'Ocp-Apim-Subscription-Key': subscription_key }\n",
    "params   = {'visualFeatures': 'Categories,Description,Tags,Color'}\n",
    "data     = {'url': image_url}\n",
    "response = requests.post(vision_analyze_url, headers=headers, params=params, json=data)\n",
    "response.raise_for_status()\n",
    "analysis = response.json()\n",
    "analysis"
   ]
  },
  {
   "cell_type": "markdown",
   "metadata": {},
   "source": [
    "上記の出力からわかるように、結果はネストされたドキュメント構造です。 次のセルを実行して、キャプションと上位3つのタグの結果を引き出します。"
   ]
  },
  {
   "cell_type": "code",
   "execution_count": null,
   "metadata": {},
   "outputs": [],
   "source": [
    "caption = analysis[\"description\"][\"captions\"][0][\"text\"].capitalize()\n",
    "caption"
   ]
  },
  {
   "cell_type": "code",
   "execution_count": null,
   "metadata": {},
   "outputs": [],
   "source": [
    "topTags = analysis[\"description\"][\"tags\"][0:3]\n",
    "topTags"
   ]
  },
  {
   "cell_type": "markdown",
   "metadata": {},
   "source": [
    "## Task 2 - OCRの実行"
   ]
  },
  {
   "cell_type": "markdown",
   "metadata": {},
   "source": [
    "Computer VisionサービスでOCRを実行するには、OCRエンドポイントをターゲットにする必要があります。\n",
    "\n",
    "次のセルを実行して、正しいURLを作成します。"
   ]
  },
  {
   "cell_type": "code",
   "execution_count": null,
   "metadata": {},
   "outputs": [],
   "source": [
    "vision_ocr_url = vision_base_url + \"ocr\""
   ]
  },
  {
   "cell_type": "markdown",
   "metadata": {},
   "source": [
    "次に、次のコードでOCRエンドポイントを呼び出し、結果を調べます。"
   ]
  },
  {
   "cell_type": "code",
   "execution_count": null,
   "metadata": {},
   "outputs": [],
   "source": [
    "headers  = {'Ocp-Apim-Subscription-Key': subscription_key }\n",
    "params   = {}\n",
    "data     = {'url': image_url}\n",
    "response = requests.post(vision_ocr_url, headers=headers, params=params, json=data)\n",
    "response.raise_for_status()\n",
    "ocr_analysis = response.json()\n",
    "ocr_analysis"
   ]
  },
  {
   "cell_type": "markdown",
   "metadata": {},
   "source": [
    "結果からテキストをフラット配列として抽出するための次のコードを提供します。\n",
    "\n",
    "次のセルを実行して、結果のドキュメントからテキストアイテムを抽出します。"
   ]
  },
  {
   "cell_type": "code",
   "execution_count": null,
   "metadata": {},
   "outputs": [],
   "source": [
    "import itertools\n",
    "flatten = lambda x: list(itertools.chain.from_iterable(x))\n",
    "words_list = [[ [w['text'] for w in line['words']]  for line in d['lines']] for d in ocr_analysis['regions']]\n",
    "words_list = flatten(flatten(words_list))\n",
    "print(list(words_list))"
   ]
  },
  {
   "cell_type": "markdown",
   "metadata": {},
   "source": [
    "## Task 3 - 感情分析の実行"
   ]
  },
  {
   "cell_type": "markdown",
   "metadata": {},
   "source": [
    "感情分析は、Text Analytics APIを使用して実行されます。\n",
    "\n",
    "次のセルをText Analytics APIのインスタンスのキーで更新し、セルを実行します。"
   ]
  },
  {
   "cell_type": "code",
   "execution_count": null,
   "metadata": {},
   "outputs": [],
   "source": [
    "text_analytics_subscription_key = '' #\"<your_text_analytics_key>\"\n",
    "assert text_analytics_subscription_key"
   ]
  },
  {
   "cell_type": "markdown",
   "metadata": {},
   "source": [
    "Text Analytics APIのデプロイされたインスタンスの正しいベースURLで次のセルを更新し、セルを実行します。"
   ]
  },
  {
   "cell_type": "code",
   "execution_count": null,
   "metadata": {},
   "outputs": [],
   "source": [
    "#\"<your_text_analytics_base_url>\"\n",
    "text_analytics_base_url = ''\n",
    "sentiment_api_url = text_analytics_base_url + \"/text/analytics/v2.1/sentiment\""
   ]
  },
  {
   "cell_type": "markdown",
   "metadata": {},
   "source": [
    "次のセルには、測定の感情をテストするために使用できる一連のクレーム例があります。\n",
    "\n",
    "セルを実行します。"
   ]
  },
  {
   "cell_type": "code",
   "execution_count": null,
   "metadata": {},
   "outputs": [],
   "source": [
    "neg_sent = \"\"\"We are just devastated and emotionally drained. \n",
    "The roof was torn off of our car, and to make matters\n",
    "worse my daughter's favorite teddy bear was impaled on the street lamp.\"\"\"\n",
    "pos_sent = \"\"\"We are just happy the damaage was mininmal and that everyone is safe. \n",
    "We are thankful for your support.\"\"\"\n",
    "neutral_sent = \"\"\"I crashed my car.\"\"\"\n",
    "long_claim = \"\"\"\n",
    "I was driving down El Camino and stopped at a red light.\n",
    "It was about 3pm in the afternoon. The sun was bright and shining just behind the stoplight.\n",
    "This made it hard to see the lights. There was a car on my left in the left turn lane.\n",
    "A few moments later another car, a black sedan pulled up behind me. \n",
    "When the left turn light changed green, the black sedan hit me thinking \n",
    "that the light had changed for us, but I had not moved because the light \n",
    "was still red. After hitting my car, the black sedan backed up and then sped past me.\n",
    "I did manage to catch its license plate. The license plate of the black sedan was ABC123. \n",
    "\"\"\""
   ]
  },
  {
   "cell_type": "markdown",
   "metadata": {},
   "source": [
    "上記のクレームのリストから1つを選択し、その変数を claim_text に割り当てて、Text Analytics APIの呼び出しで使用します。"
   ]
  },
  {
   "cell_type": "code",
   "execution_count": null,
   "metadata": {},
   "outputs": [],
   "source": [
    "claim_text = long_claim"
   ]
  },
  {
   "cell_type": "markdown",
   "metadata": {},
   "source": [
    "APIでは、次のフォームのドキュメントを送信する必要があります。\n",
    "\n",
    "セルを実行してリクエストドキュメントを作成します。"
   ]
  },
  {
   "cell_type": "code",
   "execution_count": null,
   "metadata": {},
   "outputs": [],
   "source": [
    "documents = {'documents' : [\n",
    "    {'id': '1', 'language': 'en', 'text': claim_text}\n",
    "]}"
   ]
  },
  {
   "cell_type": "markdown",
   "metadata": {},
   "source": [
    "次に、Text Analytics APIを呼び出して、結果を確認します。"
   ]
  },
  {
   "cell_type": "code",
   "execution_count": null,
   "metadata": {},
   "outputs": [],
   "source": [
    "headers   = {\"Ocp-Apim-Subscription-Key\": text_analytics_subscription_key}\n",
    "response  = requests.post(sentiment_api_url, headers=headers, json=documents)\n",
    "sentiments = response.json()\n",
    "sentiments"
   ]
  },
  {
   "cell_type": "markdown",
   "metadata": {},
   "source": [
    "レスポンスからの感情スコアをパースするには、次のセルを実行します。"
   ]
  },
  {
   "cell_type": "code",
   "execution_count": null,
   "metadata": {},
   "outputs": [],
   "source": [
    "score = sentiments['documents'][0]['score']\n",
    "score"
   ]
  },
  {
   "cell_type": "markdown",
   "metadata": {},
   "source": [
    "次のセルを実行することにより、このスコアについて人間にわかりやすい解釈を提供できます。"
   ]
  },
  {
   "cell_type": "code",
   "execution_count": null,
   "metadata": {},
   "outputs": [],
   "source": [
    "score_interpretation = \"neutral\"\n",
    "if (score < 0.45): \n",
    "    score_interpretation = \"negative\"\n",
    "elif (score >= 0.55):\n",
    "    score_interpretation = \"positive\"\n",
    "score_interpretation"
   ]
  },
  {
   "cell_type": "markdown",
   "metadata": {},
   "source": [
    "## Task 4 - Azure MLデプロイ済みサービスの呼び出し"
   ]
  },
  {
   "cell_type": "markdown",
   "metadata": {},
   "source": [
    "次のセルを実行して、Azure Machine Learningサービスを使用してAzure Container Instancesにデプロイされた分類メソッドと要約メソッドを呼び出すために使用されるメソッドを定義します。"
   ]
  },
  {
   "cell_type": "code",
   "execution_count": null,
   "metadata": {},
   "outputs": [],
   "source": [
    "def invoke_service(ml_service_key, ml_service_scoring_endpoint, ml_service_input):\n",
    "    headers   = {\"Authorization\": \"Bearer \" + ml_service_key}\n",
    "    response  = requests.post(ml_service_scoring_endpoint, headers=headers, json=ml_service_input)\n",
    "    result = response.json()\n",
    "    return result"
   ]
  },
  {
   "cell_type": "markdown",
   "metadata": {},
   "source": [
    "デプロイされたインスタンスに応じて、キーとエンドポイントを使用して分類の呼び出しを構成します。"
   ]
  },
  {
   "cell_type": "code",
   "execution_count": null,
   "metadata": {},
   "outputs": [],
   "source": [
    "classifier_service_key = \"\" #サービスで認証が有効になっている場合のみKeyを入力(今回は不要)\n",
    "\n",
    "#\"<your_classifier_scoring_url>\" エンドポイントのURLを入力\n",
    "classifier_service_scoring_endpoint = ''\n",
    "classifier_service_input = [claim_text]"
   ]
  },
  {
   "cell_type": "markdown",
   "metadata": {},
   "source": [
    "分類を呼び出して結果を確認します。"
   ]
  },
  {
   "cell_type": "code",
   "execution_count": null,
   "metadata": {},
   "outputs": [],
   "source": [
    "classifier_result = invoke_service(classifier_service_key, \n",
    "                                   classifier_service_scoring_endpoint, classifier_service_input)\n",
    "classifier_result"
   ]
  },
  {
   "cell_type": "code",
   "execution_count": null,
   "metadata": {},
   "outputs": [],
   "source": [
    "# Interpret the classifier result\n",
    "classification = 'Auto Insurance Claim' if classifier_result == 1 else 'Home Insurance Claim' \n",
    "classification"
   ]
  },
  {
   "cell_type": "markdown",
   "metadata": {},
   "source": [
    "同様に、サマライザサービスに応じて、キーとスコアリングエンドポイントを構成します。"
   ]
  },
  {
   "cell_type": "code",
   "execution_count": null,
   "metadata": {},
   "outputs": [],
   "source": [
    "summarizer_service_key = \"\" #サービスで認証が有効になっている場合のみKeyを入力(今回は不要)\n",
    "\n",
    "#\"<your_summarizer_service_url>\" エンドポイントのURLを入力\n",
    "summarizer_service_scoring_endpoint = ''\n",
    "summarizer_service_input = claim_text"
   ]
  },
  {
   "cell_type": "markdown",
   "metadata": {},
   "source": [
    "サマライザサービスを呼び出し、結果を確認します。"
   ]
  },
  {
   "cell_type": "code",
   "execution_count": null,
   "metadata": {},
   "outputs": [],
   "source": [
    "summarizer_result = invoke_service(summarizer_service_key, summarizer_service_scoring_endpoint, \n",
    "                                   summarizer_service_input)\n",
    "formatted_result =  summarizer_result[0].replace(\"\\\\n\", \" \").strip() if len(summarizer_result) > 0 else \"N/A\"\n",
    "formatted_result"
   ]
  },
  {
   "cell_type": "markdown",
   "metadata": {},
   "source": [
    "## Task 5 - 結果の統合\n",
    "\n",
    "この最後のタスクでは、すべての要素をまとめて、AIベースの処理の結果を表示します。\n",
    "\n",
    "次のセルを実行し、結果を調べます。"
   ]
  },
  {
   "cell_type": "code",
   "execution_count": null,
   "metadata": {},
   "outputs": [],
   "source": [
    "from IPython.core.display import HTML\n",
    "\n",
    "displayTemplate = \"\"\"\n",
    "<div><b>Claim Summary</b></div>\n",
    "<div>Classification: {}</div>\n",
    "<div>Caption: {}</div>\n",
    "<div>Tags: {}</div>\n",
    "<div>Text in Image: {}</div>\n",
    "<div>Sentiment: {}</div>\n",
    "<div><img src='{}' width='200px'></div>\n",
    "<div>Summary: </div>\n",
    "<div><pre>{} </pre></div>\n",
    "<div>&nbsp;</div>\n",
    "<div>Claim:</div>\n",
    "<div>{}</div>\n",
    "\n",
    "\"\"\"\n",
    "displayTemplate = displayTemplate.format(classification, caption, ' '.join(topTags), ' '.join(words_list), \n",
    "                                         score_interpretation, image_url, formatted_result, \n",
    "                                         claim_text)\n",
    "display(HTML(displayTemplate))"
   ]
  }
 ],
 "metadata": {
  "kernelspec": {
   "name": "python36",
   "display_name": "Python 3.6",
   "language": "python"
  },
  "language_info": {
   "mimetype": "text/x-python",
   "nbconvert_exporter": "python",
   "name": "python",
   "pygments_lexer": "ipython3",
   "version": "3.6.6",
   "file_extension": ".py",
   "codemirror_mode": {
    "version": 3,
    "name": "ipython"
   }
  }
 },
 "nbformat": 4,
 "nbformat_minor": 2
}