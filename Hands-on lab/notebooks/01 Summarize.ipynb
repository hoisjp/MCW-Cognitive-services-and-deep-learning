{
 "cells": [
  {
   "cell_type": "markdown",
   "metadata": {},
   "source": [
    "# Summarizing Text (テキスト要約)"
   ]
  },
  {
   "cell_type": "markdown",
   "metadata": {},
   "source": [
    "このノートブックでは、抽出に基づいてテキストを要約する実験を行います。 この要約の手法は、提供されたテキスト内の主要な文を識別しようとし、それらの主要な文だけを返した結果である要約を返します。\n",
    "\n",
    "テキストを要約するために実行するプロセスは、次の手順を含むテキスト分析パイプラインのサブセットです。\n",
    "\n",
    "- テキストを正規化します。この場合、改行文字のテキストをクリーンアップするだけです。 これに続いて、簡単な文のトークン化が行われます。これにより、段落が文に分割され、余分な末尾のスペースが削除されます。 最後に、クリーンアップされたテキストが文字列として返されます。\n",
    "- 分析メソッドを適用します。この場合、gensimライブラリーが提供するsummaryメソッドを使用して、要約された結果を生成します。"
   ]
  },
  {
   "cell_type": "markdown",
   "metadata": {},
   "source": [
    "**続行する前にノートブック `00 Init`を実行したことを確認してください**"
   ]
  },
  {
   "cell_type": "markdown",
   "metadata": {},
   "source": [
    "## Task 1 - モジュールをインポートする\n",
    "\n",
    "まず、ロジックで使用されるモジュールをインポートする必要があります。"
   ]
  },
  {
   "cell_type": "code",
   "execution_count": null,
   "metadata": {},
   "outputs": [],
   "source": [
    "import nltk\n",
    "import re\n",
    "import unicodedata\n",
    "import numpy as np\n",
    "from gensim.summarization import summarize\n",
    "nltk.download('punkt')"
   ]
  },
  {
   "cell_type": "markdown",
   "metadata": {},
   "source": [
    "## Task 2 - テキストを正規化する\n",
    "\n",
    "以下では、改行文字を削除し、テキストの段落を文字列文の配列にトークン化し、文を囲む余分なスペースを取り除くメソッドを定義します。 これは、単純ですが典型的なテキストの正規化手順の例です。"
   ]
  },
  {
   "cell_type": "code",
   "execution_count": null,
   "metadata": {},
   "outputs": [],
   "source": [
    "def clean_and_parse_document(document):\n",
    "    document = re.sub('\\n', ' ', document)\n",
    "    document = document.strip()\n",
    "    sentences = nltk.sent_tokenize(document)\n",
    "    sentences = [sentence.strip() for sentence in sentences]\n",
    "    return sentences"
   ]
  },
  {
   "cell_type": "markdown",
   "metadata": {},
   "source": [
    "## Task 3 - テキストを要約する\n",
    "\n",
    "以下では、gensimモジュールのsummaryメソッドを使用するメソッドを定義します。 clean_and_parse_documentルーチンから前処理された出力を取得し、文字列文の配列を連結して1つのテキストアイテムに変換します。 テキスト分析を実行するとき、一部の分析メソッドはトークン化された入力を必要とする場合があり、その他は文字列入力を必要とする場合があるため、これは一般的なプロセスです。 この場合、summaryメソッドには入力としてテキスト文字列が必要です。"
   ]
  },
  {
   "cell_type": "code",
   "execution_count": null,
   "metadata": {},
   "outputs": [],
   "source": [
    "def summarize_text(text, summary_ratio=None, word_count=30):\n",
    "    sentences = clean_and_parse_document(text)\n",
    "    cleaned_text = ' '.join(sentences)\n",
    "    summary = summarize(cleaned_text, split=True, ratio=summary_ratio, word_count=word_count)\n",
    "    return summary "
   ]
  },
  {
   "cell_type": "markdown",
   "metadata": {},
   "source": [
    "## Task 4 - Try it out\n",
    "\n",
    "Contoso Ltd.が遭遇する可能性があるかなり長いクレームの説明を表す文字列の例を作成します。 例文が提供されていますが、ご自分で編集しても構いません。"
   ]
  },
  {
   "cell_type": "code",
   "execution_count": null,
   "metadata": {},
   "outputs": [],
   "source": [
    "example_document = \"\"\"\n",
    "I was driving down El Camino and stopped at a red light.\n",
    "It was about 3pm in the afternoon.  \n",
    "The sun was bright and shining just behind the stoplight.\n",
    "This made it hard to see the lights.\n",
    "There was a car on my left in the left turn lane.\n",
    "A few moments later another car, a black sedan pulled up behind me. \n",
    "When the left turn light changed green, the black sedan hit me thinking \n",
    "that the light had changed for us, but I had not moved because the light \n",
    "was still red.\n",
    "After hitting my car, the black sedan backed up and then sped past me.\n",
    "I did manage to catch its license plate. \n",
    "The license plate of the black sedan was ABC123. \n",
    "\"\"\""
   ]
  },
  {
   "cell_type": "markdown",
   "metadata": {},
   "source": [
    "次に、サンプルドキュメントに対してsummary_text関数を呼び出し、結果を確認します。"
   ]
  },
  {
   "cell_type": "code",
   "execution_count": null,
   "metadata": {},
   "outputs": [],
   "source": [
    "summarize_text(example_document)"
   ]
  },
  {
   "cell_type": "markdown",
   "metadata": {},
   "source": [
    "概要が文字列の配列として返されることを確認します。 複数の文が返された場合、複数の配列エントリがあります。"
   ]
  },
  {
   "cell_type": "markdown",
   "metadata": {},
   "source": [
    "## Task 5 - 実験\n",
    "\n",
    "- 上記の要約テキスト機能は、デフォルトで約30語の長さの要約を提供します。 テキストを60語に要約しようとするとどうなりますか？\n",
    "- 要約の目標長より短い要約を送信するテキストを送信するとどうなりますか？"
   ]
  },
  {
   "cell_type": "code",
   "execution_count": null,
   "metadata": {},
   "outputs": [],
   "source": []
  }
 ],
 "metadata": {
  "kernelspec": {
   "display_name": "Python 3.6 - AzureML",
   "language": "python",
   "name": "python3-azureml"
  },
  "language_info": {
   "codemirror_mode": {
    "name": "ipython",
    "version": 3
   },
   "file_extension": ".py",
   "mimetype": "text/x-python",
   "name": "python",
   "nbconvert_exporter": "python",
   "pygments_lexer": "ipython3",
   "version": "3.6.9"
  }
 },
 "nbformat": 4,
 "nbformat_minor": 2
}
